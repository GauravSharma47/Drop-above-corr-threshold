{
 "cells": [
  {
   "cell_type": "markdown",
   "metadata": {
    "colab_type": "text",
    "id": "793iI92zrjLx"
   },
   "source": [
    "## Drop least Columns Above a threshold"
   ]
  },
  {
   "cell_type": "markdown",
   "metadata": {
    "colab_type": "text",
    "id": "3dEK9gu4vYo8"
   },
   "source": [
    "Dropping columns with correlation greater than a threshold is easy. But the tricky part is with the word 'Least'. \n",
    "Consider 4 columns c1,c2,c3,c4\n",
    "Lets say these particular pairs have correlation more the threshold:\n",
    "\n",
    "\n",
    "*   (c1 c2)\n",
    "*   (c2 c4)\n",
    "*   (c2 c3)\n",
    "*   (c3 c4)\n",
    "\n",
    "\n",
    "Now if we simply drop all unique columns in above pairs. c1 will be dropped while being the innocent.\n",
    "so the algorithm down below uses one extra layer of filter to check if the column is actually the one with more correlation."
   ]
  },
  {
   "cell_type": "code",
   "execution_count": 6,
   "metadata": {
    "colab": {},
    "colab_type": "code",
    "id": "Trcte7TnrkTU"
   },
   "outputs": [],
   "source": [
    "def drop_above_corr_thresh(df,thresh=0.85):\n",
    "  #This function returns list of columns to drop whose correlation is above specified threshold.\n",
    "    corr=df.corr()\n",
    "    cols=corr.columns.to_list()\n",
    "    cols_to_drop=set() # a set of columns which will be returned to the user to drop\n",
    "    above_thresh_pairs=[] #pairs with correlation above specified threshold\n",
    "    \n",
    "    for i in range(len(cols)):\n",
    "        for j in range(i,len(cols)):\n",
    "            a,b=cols[i],cols[j]\n",
    "            if abs(corr.loc[a,b])>thresh and i!=j: \n",
    "              #if correlation is greater then threshold and columns are different\n",
    "                above_thresh_pairs.append((a,b))\n",
    "    # Now we'll compare the overall sum of absoulte correlation of each above threshold feature\n",
    "    # with every other feature in the dataset\n",
    "    # the feature with greater threshold will be added to cols_to_drop and ultimately dropped.\n",
    "    for pair in above_thresh_pairs:\n",
    "        a=abs(corr[pair[0]]).sum()\n",
    "        b=abs(corr[pair[1]]).sum()\n",
    "        if a>b:\n",
    "            cols_to_drop.add(pair[0])\n",
    "        else:\n",
    "            cols_to_drop.add(pair[1])\n",
    "    return list(cols_to_drop)   "
   ]
  },
  {
   "cell_type": "code",
   "execution_count": 7,
   "metadata": {
    "colab": {},
    "colab_type": "code",
    "id": "8fXBNRIkrrqa"
   },
   "outputs": [],
   "source": [
    "q2=pd.read_csv(\"/content/drive/My Drive/summer-products-with-rating-and-performance_2020-08.csv\")\n",
    "q2=pd.concat([q2]*50)"
   ]
  },
  {
   "cell_type": "code",
   "execution_count": 8,
   "metadata": {
    "colab": {
     "base_uri": "https://localhost:8080/",
     "height": 34
    },
    "colab_type": "code",
    "id": "hqq2aLx1v1Fm",
    "outputId": "8a17f12a-f44b-4b6c-e2a6-bc2f99c9ee71"
   },
   "outputs": [
    {
     "data": {
      "text/plain": [
       "(78650, 43)"
      ]
     },
     "execution_count": 8,
     "metadata": {
      "tags": []
     },
     "output_type": "execute_result"
    }
   ],
   "source": [
    "q2.shape"
   ]
  },
  {
   "cell_type": "code",
   "execution_count": 9,
   "metadata": {
    "colab": {
     "base_uri": "https://localhost:8080/",
     "height": 205
    },
    "colab_type": "code",
    "id": "rhyBt77fvuzU",
    "outputId": "9f12ca52-ae74-46bc-9a27-219cc3ca13a6"
   },
   "outputs": [
    {
     "data": {
      "text/html": [
       "<div>\n",
       "<style scoped>\n",
       "    .dataframe tbody tr th:only-of-type {\n",
       "        vertical-align: middle;\n",
       "    }\n",
       "\n",
       "    .dataframe tbody tr th {\n",
       "        vertical-align: top;\n",
       "    }\n",
       "\n",
       "    .dataframe thead th {\n",
       "        text-align: right;\n",
       "    }\n",
       "</style>\n",
       "<table border=\"1\" class=\"dataframe\">\n",
       "  <thead>\n",
       "    <tr style=\"text-align: right;\">\n",
       "      <th></th>\n",
       "      <th>title</th>\n",
       "      <th>title_orig</th>\n",
       "      <th>price</th>\n",
       "      <th>retail_price</th>\n",
       "      <th>currency_buyer</th>\n",
       "      <th>units_sold</th>\n",
       "      <th>uses_ad_boosts</th>\n",
       "      <th>rating</th>\n",
       "      <th>rating_count</th>\n",
       "      <th>rating_five_count</th>\n",
       "      <th>rating_four_count</th>\n",
       "      <th>rating_three_count</th>\n",
       "      <th>rating_two_count</th>\n",
       "      <th>rating_one_count</th>\n",
       "      <th>badges_count</th>\n",
       "      <th>badge_local_product</th>\n",
       "      <th>badge_product_quality</th>\n",
       "      <th>badge_fast_shipping</th>\n",
       "      <th>tags</th>\n",
       "      <th>product_color</th>\n",
       "      <th>product_variation_size_id</th>\n",
       "      <th>product_variation_inventory</th>\n",
       "      <th>shipping_option_name</th>\n",
       "      <th>shipping_option_price</th>\n",
       "      <th>shipping_is_express</th>\n",
       "      <th>countries_shipped_to</th>\n",
       "      <th>inventory_total</th>\n",
       "      <th>has_urgency_banner</th>\n",
       "      <th>urgency_text</th>\n",
       "      <th>origin_country</th>\n",
       "      <th>merchant_title</th>\n",
       "      <th>merchant_name</th>\n",
       "      <th>merchant_info_subtitle</th>\n",
       "      <th>merchant_rating_count</th>\n",
       "      <th>merchant_rating</th>\n",
       "      <th>merchant_id</th>\n",
       "      <th>merchant_has_profile_picture</th>\n",
       "      <th>merchant_profile_picture</th>\n",
       "      <th>product_url</th>\n",
       "      <th>product_picture</th>\n",
       "      <th>product_id</th>\n",
       "      <th>theme</th>\n",
       "      <th>crawl_month</th>\n",
       "    </tr>\n",
       "  </thead>\n",
       "  <tbody>\n",
       "    <tr>\n",
       "      <th>0</th>\n",
       "      <td>2020 Summer Vintage Flamingo Print  Pajamas Se...</td>\n",
       "      <td>2020 Summer Vintage Flamingo Print  Pajamas Se...</td>\n",
       "      <td>16.0</td>\n",
       "      <td>14</td>\n",
       "      <td>EUR</td>\n",
       "      <td>100</td>\n",
       "      <td>0</td>\n",
       "      <td>3.76</td>\n",
       "      <td>54</td>\n",
       "      <td>26.0</td>\n",
       "      <td>8.0</td>\n",
       "      <td>10.0</td>\n",
       "      <td>1.0</td>\n",
       "      <td>9.0</td>\n",
       "      <td>0</td>\n",
       "      <td>0</td>\n",
       "      <td>0</td>\n",
       "      <td>0</td>\n",
       "      <td>Summer,Fashion,womenunderwearsuit,printedpajam...</td>\n",
       "      <td>white</td>\n",
       "      <td>M</td>\n",
       "      <td>50</td>\n",
       "      <td>Livraison standard</td>\n",
       "      <td>4</td>\n",
       "      <td>0</td>\n",
       "      <td>34</td>\n",
       "      <td>50</td>\n",
       "      <td>1.0</td>\n",
       "      <td>Quantité limitée !</td>\n",
       "      <td>CN</td>\n",
       "      <td>zgrdejia</td>\n",
       "      <td>zgrdejia</td>\n",
       "      <td>(568 notes)</td>\n",
       "      <td>568</td>\n",
       "      <td>4.128521</td>\n",
       "      <td>595097d6a26f6e070cb878d1</td>\n",
       "      <td>0</td>\n",
       "      <td>NaN</td>\n",
       "      <td>https://www.wish.com/c/5e9ae51d43d6a96e303acdb0</td>\n",
       "      <td>https://contestimg.wish.com/api/webimage/5e9ae...</td>\n",
       "      <td>5e9ae51d43d6a96e303acdb0</td>\n",
       "      <td>summer</td>\n",
       "      <td>2020-08</td>\n",
       "    </tr>\n",
       "  </tbody>\n",
       "</table>\n",
       "</div>"
      ],
      "text/plain": [
       "                                               title  \\\n",
       "0  2020 Summer Vintage Flamingo Print  Pajamas Se...   \n",
       "\n",
       "                                          title_orig  price  retail_price  \\\n",
       "0  2020 Summer Vintage Flamingo Print  Pajamas Se...   16.0            14   \n",
       "\n",
       "  currency_buyer  units_sold  uses_ad_boosts  rating  rating_count  \\\n",
       "0            EUR         100               0    3.76            54   \n",
       "\n",
       "   rating_five_count  rating_four_count  rating_three_count  rating_two_count  \\\n",
       "0               26.0                8.0                10.0               1.0   \n",
       "\n",
       "   rating_one_count  badges_count  badge_local_product  badge_product_quality  \\\n",
       "0               9.0             0                    0                      0   \n",
       "\n",
       "   badge_fast_shipping                                               tags  \\\n",
       "0                    0  Summer,Fashion,womenunderwearsuit,printedpajam...   \n",
       "\n",
       "  product_color product_variation_size_id  product_variation_inventory  \\\n",
       "0         white                         M                           50   \n",
       "\n",
       "  shipping_option_name  shipping_option_price  shipping_is_express  \\\n",
       "0   Livraison standard                      4                    0   \n",
       "\n",
       "   countries_shipped_to  inventory_total  has_urgency_banner  \\\n",
       "0                    34               50                 1.0   \n",
       "\n",
       "         urgency_text origin_country merchant_title merchant_name  \\\n",
       "0  Quantité limitée !             CN       zgrdejia      zgrdejia   \n",
       "\n",
       "  merchant_info_subtitle  merchant_rating_count  merchant_rating  \\\n",
       "0            (568 notes)                    568         4.128521   \n",
       "\n",
       "                merchant_id  merchant_has_profile_picture  \\\n",
       "0  595097d6a26f6e070cb878d1                             0   \n",
       "\n",
       "  merchant_profile_picture                                      product_url  \\\n",
       "0                      NaN  https://www.wish.com/c/5e9ae51d43d6a96e303acdb0   \n",
       "\n",
       "                                     product_picture  \\\n",
       "0  https://contestimg.wish.com/api/webimage/5e9ae...   \n",
       "\n",
       "                 product_id   theme crawl_month  \n",
       "0  5e9ae51d43d6a96e303acdb0  summer     2020-08  "
      ]
     },
     "execution_count": 9,
     "metadata": {
      "tags": []
     },
     "output_type": "execute_result"
    }
   ],
   "source": [
    "q2.head(1)"
   ]
  },
  {
   "cell_type": "code",
   "execution_count": 10,
   "metadata": {
    "colab": {
     "base_uri": "https://localhost:8080/",
     "height": 121
    },
    "colab_type": "code",
    "id": "zzlyNMfQvOEZ",
    "outputId": "4f44ce68-32fa-4260-d061-3615b19fd239"
   },
   "outputs": [
    {
     "data": {
      "text/plain": [
       "['rating_four_count',\n",
       " 'shipping_option_price',\n",
       " 'rating_two_count',\n",
       " 'rating_three_count',\n",
       " 'rating_five_count',\n",
       " 'rating_count']"
      ]
     },
     "execution_count": 10,
     "metadata": {
      "tags": []
     },
     "output_type": "execute_result"
    }
   ],
   "source": [
    "drop_above_corr_thresh(q2)"
   ]
  },
  {
   "cell_type": "code",
   "execution_count": null,
   "metadata": {},
   "outputs": [],
   "source": []
  }
 ],
 "metadata": {
  "kernelspec": {
   "display_name": "Python 3",
   "language": "python",
   "name": "python3"
  },
  "language_info": {
   "codemirror_mode": {
    "name": "ipython",
    "version": 3
   },
   "file_extension": ".py",
   "mimetype": "text/x-python",
   "name": "python",
   "nbconvert_exporter": "python",
   "pygments_lexer": "ipython3",
   "version": "3.7.6"
  }
 },
 "nbformat": 4,
 "nbformat_minor": 4
}
